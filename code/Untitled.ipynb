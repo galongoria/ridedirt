{
 "cells": [
  {
   "cell_type": "code",
   "execution_count": 1,
   "id": "e158e6c3",
   "metadata": {},
   "outputs": [
    {
     "ename": "ModuleNotFoundError",
     "evalue": "No module named 'facebook'",
     "output_type": "error",
     "traceback": [
      "\u001b[1;31m---------------------------------------------------------------------------\u001b[0m",
      "\u001b[1;31mModuleNotFoundError\u001b[0m                       Traceback (most recent call last)",
      "Input \u001b[1;32mIn [1]\u001b[0m, in \u001b[0;36m<cell line: 4>\u001b[1;34m()\u001b[0m\n\u001b[0;32m      2\u001b[0m \u001b[38;5;28;01mimport\u001b[39;00m \u001b[38;5;21;01mpandas\u001b[39;00m \u001b[38;5;28;01mas\u001b[39;00m \u001b[38;5;21;01mpd\u001b[39;00m\n\u001b[0;32m      3\u001b[0m \u001b[38;5;28;01mimport\u001b[39;00m \u001b[38;5;21;01mregex\u001b[39;00m \u001b[38;5;28;01mas\u001b[39;00m \u001b[38;5;21;01mre\u001b[39;00m\n\u001b[1;32m----> 4\u001b[0m \u001b[38;5;28;01mimport\u001b[39;00m \u001b[38;5;21;01mos\u001b[39;00m\u001b[38;5;241m,\u001b[39m \u001b[38;5;21;01murllib\u001b[39;00m\u001b[38;5;21;01m.\u001b[39;00m\u001b[38;5;21;01mrequest\u001b[39;00m\u001b[38;5;241m,\u001b[39m \u001b[38;5;21;01mfacebook\u001b[39;00m\n\u001b[0;32m      5\u001b[0m \u001b[38;5;28;01mfrom\u001b[39;00m \u001b[38;5;21;01mdotenv\u001b[39;00m \u001b[38;5;28;01mimport\u001b[39;00m load_dotenv\n\u001b[0;32m      6\u001b[0m \u001b[38;5;28;01mfrom\u001b[39;00m \u001b[38;5;21;01msearches\u001b[39;00m \u001b[38;5;28;01mimport\u001b[39;00m get_fb_groups\n",
      "\u001b[1;31mModuleNotFoundError\u001b[0m: No module named 'facebook'"
     ]
    }
   ],
   "source": [
    "from datetime import datetime\n",
    "import pandas as pd\n",
    "import regex as re\n",
    "import os, urllib.request, facebook\n",
    "from dotenv import load_dotenv\n",
    "from searches import get_fb_groups\n",
    "\n",
    "\n",
    "RAW_DIR = os.path.join(\"data\", \"raw\")\n",
    "PICREF_DIR = os.path.join(\"data\", \"pictures_backup\")\n",
    "PIC_DIR = os.path.join(\"data\", \"pictures\")\n",
    "FB_GROUP_PATH = os.path.join(RAW_DIR, \"facebook_group.csv\")\n",
    "\n",
    "\n",
    "load_dotenv()\n",
    "token = os.getenv(\"token\")\n",
    "\n",
    "pic1 = os.path.join(PIC_DIR, 'Anthills_MTB_(Official_Group)', '08_13_2022_16_12.jpg')\n",
    "pic2 = os.path.join(PIC_DIR, 'Anthills_MTB_(Official_Group)', '08_15_2022_17_17.jpg')"
   ]
  },
  {
   "cell_type": "code",
   "execution_count": 8,
   "id": "67c3f666",
   "metadata": {},
   "outputs": [
    {
     "data": {
      "text/plain": [
       "False"
      ]
     },
     "execution_count": 8,
     "metadata": {},
     "output_type": "execute_result"
    }
   ],
   "source": [
    "open(pic1,\"rb\").read() == open(pic2,\"rb\").read()"
   ]
  },
  {
   "cell_type": "code",
   "execution_count": null,
   "id": "00e6a78a",
   "metadata": {},
   "outputs": [],
   "source": [
    "def get_group_picture(group_id):\n",
    "\n",
    "    graph = facebook.GraphAPI(access_token=token, version=3.1)\n",
    "    name = re.sub(r\"\\s\", \"_\", graph.request(f\"/{group_id}/\")[\"name\"])\n",
    "    pic = graph.request(f\"/{group_id}/picture?type=large\")[\"url\"]\n",
    "    print(pic)\n",
    "    datetime_string = re.sub(r\"[\\/\\s]\", \"_\", datetime.now().strftime(\"%y_%m_%d_%H_%M\"))\n",
    "    return name, datetime_string, pic"
   ]
  }
 ],
 "metadata": {
  "kernelspec": {
   "display_name": "venv",
   "language": "python",
   "name": "venv"
  },
  "language_info": {
   "codemirror_mode": {
    "name": "ipython",
    "version": 3
   },
   "file_extension": ".py",
   "mimetype": "text/x-python",
   "name": "python",
   "nbconvert_exporter": "python",
   "pygments_lexer": "ipython3",
   "version": "3.10.4"
  }
 },
 "nbformat": 4,
 "nbformat_minor": 5
}
