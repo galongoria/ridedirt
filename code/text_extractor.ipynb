{
 "cells": [
  {
   "cell_type": "code",
   "execution_count": 83,
   "id": "d23a4253",
   "metadata": {},
   "outputs": [],
   "source": [
    "import os, sys, cv2\n",
    "sys.path.append('..//venv//Lib//site-packages')\n",
    "from pytesseract import pytesseract\n",
    "from PIL import Image, ImageOps\n",
    "\n",
    "ANTHILLS_DIR = os.path.join('..//data', 'pictures', 'Anthills_MTB_(Official_Group)')"
   ]
  },
  {
   "cell_type": "code",
   "execution_count": null,
   "id": "ea0ee0cc",
   "metadata": {},
   "outputs": [],
   "source": [
    "image = "
   ]
  },
  {
   "cell_type": "code",
   "execution_count": 90,
   "id": "66a9c4c8",
   "metadata": {},
   "outputs": [],
   "source": [
    "def get_text():\n",
    "    \n",
    "    tess_path = r'C:\\Program Files\\Tesseract-OCR\\tesseract.exe'\n",
    "    \n",
    "    for file in os.listdir(ANTHILLS_DIR):\n",
    "        image_path = os.path.join(ANTHILLS_DIR, file)\n",
    "        image = cv2.imread(image_path)\n",
    "        gray = cv2.cvtColor(image, cv2.COLOR_BGR2GRAY)\n",
    "        blur = cv2.GaussianBlur(gray, (3,3), 0)\n",
    "        display(blur)\n",
    "        \n"
   ]
  },
  {
   "cell_type": "code",
   "execution_count": 91,
   "id": "3fa2fd3b",
   "metadata": {},
   "outputs": [
    {
     "data": {
      "text/plain": [
       "array([[213, 198, 175, ..., 251, 253, 254],\n",
       "       [205, 190, 168, ..., 251, 253, 253],\n",
       "       [180, 169, 156, ..., 248, 252, 252],\n",
       "       ...,\n",
       "       [132, 131, 129, ..., 170, 172, 174],\n",
       "       [128, 127, 128, ..., 152, 156, 160],\n",
       "       [128, 127, 128, ..., 142, 147, 153]], dtype=uint8)"
      ]
     },
     "metadata": {},
     "output_type": "display_data"
    },
    {
     "data": {
      "text/plain": [
       "array([[213, 198, 175, ..., 251, 253, 254],\n",
       "       [205, 190, 168, ..., 251, 253, 253],\n",
       "       [180, 169, 156, ..., 248, 252, 252],\n",
       "       ...,\n",
       "       [132, 131, 129, ..., 170, 172, 174],\n",
       "       [128, 127, 128, ..., 152, 156, 160],\n",
       "       [128, 127, 128, ..., 142, 147, 153]], dtype=uint8)"
      ]
     },
     "metadata": {},
     "output_type": "display_data"
    },
    {
     "data": {
      "text/plain": [
       "array([[213, 198, 175, ..., 251, 253, 254],\n",
       "       [205, 190, 168, ..., 251, 253, 253],\n",
       "       [180, 169, 156, ..., 248, 252, 252],\n",
       "       ...,\n",
       "       [132, 131, 129, ..., 170, 172, 174],\n",
       "       [128, 127, 128, ..., 152, 156, 160],\n",
       "       [128, 127, 128, ..., 142, 147, 153]], dtype=uint8)"
      ]
     },
     "metadata": {},
     "output_type": "display_data"
    }
   ],
   "source": [
    "get_text()"
   ]
  },
  {
   "cell_type": "code",
   "execution_count": null,
   "id": "a2d2fdaf",
   "metadata": {},
   "outputs": [],
   "source": []
  }
 ],
 "metadata": {
  "kernelspec": {
   "display_name": "venv",
   "language": "python",
   "name": "venv"
  },
  "language_info": {
   "codemirror_mode": {
    "name": "ipython",
    "version": 3
   },
   "file_extension": ".py",
   "mimetype": "text/x-python",
   "name": "python",
   "nbconvert_exporter": "python",
   "pygments_lexer": "ipython3",
   "version": "3.10.4"
  }
 },
 "nbformat": 4,
 "nbformat_minor": 5
}
