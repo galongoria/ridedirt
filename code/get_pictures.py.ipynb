{
 "cells": [
  {
   "cell_type": "code",
   "execution_count": 50,
   "id": "e1257650",
   "metadata": {},
   "outputs": [],
   "source": [
    "from dotenv import load_dotenv\n",
    "from datetime import datetime\n",
    "import pandas as pd\n",
    "import regex as re\n",
    "import json, os, time, pickle, requests, urllib3, urllib.request, sys\n",
    "sys.path.append('..//venv//Lib//site-packages')\n",
    "import facebook\n",
    "import pytesseract\n",
    "\n",
    "load_dotenv()\n",
    "token = os.getenv('token')\n",
    "\n",
    "RAW_DIR = os.path.join('..//data', 'raw')\n",
    "PIC_DIR = os.path.join('..//data', 'pictures')\n",
    "STATE_HREF_PATH = os.path.join(RAW_DIR, 'state_pages.pickle')\n",
    "FB_GROUP_PATH = os.path.join(RAW_DIR, 'facebook_group.csv')"
   ]
  },
  {
   "cell_type": "code",
   "execution_count": 48,
   "id": "fbaf2e9d",
   "metadata": {},
   "outputs": [],
   "source": [
    "def make_search_dict():\n",
    "    \n",
    "    search_dict = {}\n",
    "    with open(STATE_HREF_PATH, 'rb') as file:\n",
    "        state_hrefs = pickle.load(file)\n",
    "    for href in state_hrefs:\n",
    "        search_dict[s.split('/')[-1].capitalize()] = href\n",
    "    return search_dict"
   ]
  },
  {
   "cell_type": "code",
   "execution_count": 26,
   "id": "8155e4ac",
   "metadata": {},
   "outputs": [],
   "source": [
    "def get_page_picture(group_id):\n",
    "    \n",
    "    graph = facebook.GraphAPI(access_token=token, version = 3.1)\n",
    "    name = re.sub('\\s', '_' ,graph.request(f'/{group_id}/')['name'])\n",
    "    pic = graph.request(f'/{group_id}/picture?type=large')['url']\n",
    "    datetime_string = re.sub('\\/', '-', re.sub(':', r'.', re.sub('\\s', '_', datetime.now().strftime(\"%d/%m/%Y %H:%M:%S\"))))\n",
    "    os.makedirs(os.path.join(PIC_DIR, f'{name}'), exist_ok=True)\n",
    "    urllib.request.urlretrieve(pic, os.path.join(PIC_DIR, f'{name}',f'{dt_string}.jpg'))\n",
    "    "
   ]
  },
  {
   "cell_type": "code",
   "execution_count": 4,
   "id": "9b04f51e",
   "metadata": {},
   "outputs": [],
   "source": [
    "def get_all_pictures():\n",
    "    \n",
    "    id_list = list(pd.read_csv(FB_GROUP_PATH)['id'].values)\n",
    "    for i, l in enumerate(id_list):\n",
    "        get_page_picture(l)"
   ]
  },
  {
   "cell_type": "code",
   "execution_count": null,
   "id": "96eb315e",
   "metadata": {},
   "outputs": [],
   "source": []
  }
 ],
 "metadata": {
  "kernelspec": {
   "display_name": "venv",
   "language": "python",
   "name": "venv"
  },
  "language_info": {
   "codemirror_mode": {
    "name": "ipython",
    "version": 3
   },
   "file_extension": ".py",
   "mimetype": "text/x-python",
   "name": "python",
   "nbconvert_exporter": "python",
   "pygments_lexer": "ipython3",
   "version": "3.10.4"
  }
 },
 "nbformat": 4,
 "nbformat_minor": 5
}
